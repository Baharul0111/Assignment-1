{
 "cells": [
  {
   "cell_type": "code",
   "execution_count": 9,
   "id": "b33532a6-0841-4f6b-87ce-03013aa02e4e",
   "metadata": {},
   "outputs": [
    {
     "name": "stdout",
     "output_type": "stream",
     "text": [
      "2\n",
      "4\n",
      "6\n",
      "8\n",
      "10\n",
      "12\n",
      "14\n",
      "16\n",
      "18\n"
     ]
    },
    {
     "name": "stdin",
     "output_type": "stream",
     "text": [
      "Enter a number 1\n"
     ]
    },
    {
     "name": "stdout",
     "output_type": "stream",
     "text": [
      "1\n"
     ]
    },
    {
     "name": "stdin",
     "output_type": "stream",
     "text": [
      "Enter a number 3\n"
     ]
    },
    {
     "name": "stdout",
     "output_type": "stream",
     "text": [
      "3\n"
     ]
    },
    {
     "name": "stdin",
     "output_type": "stream",
     "text": [
      "Enter a number 2\n"
     ]
    }
   ],
   "source": [
    "# question 1\n",
    "#we need to use a for loop when we know how many times a loop is going to run eg- we have a list with elements and we want to print each element by multipplying by 2\n",
    "l=[1,2,3,4,5,6,7,8,9]\n",
    "for i in range(0, len(l)):\n",
    "    print(l[i]*2)\n",
    "# we need to use a while loop when we need to iterate over something whose length is not known but a condition is known to break the loop eg-we take input from user till user enters a even number\n",
    "while(True):\n",
    "    num=int(input(\"Enter a number\"))\n",
    "    if num%2==0:\n",
    "        break\n",
    "    else:\n",
    "        print(num)"
   ]
  },
  {
   "cell_type": "code",
   "execution_count": 16,
   "id": "1e055b5b-63a6-4da2-8166-83ae3df4acb3",
   "metadata": {},
   "outputs": [
    {
     "name": "stdout",
     "output_type": "stream",
     "text": [
      "55\n",
      "3628800\n"
     ]
    }
   ],
   "source": [
    "#question 2\n",
    "summation=0\n",
    "product=1\n",
    "for i in range(1, 11):\n",
    "    summation = summation + i\n",
    "    product = product * i\n",
    "print(summation)\n",
    "print(product)"
   ]
  },
  {
   "cell_type": "code",
   "execution_count": 21,
   "id": "49852531-1cde-40fd-bedc-d6138b79ae30",
   "metadata": {},
   "outputs": [
    {
     "name": "stdin",
     "output_type": "stream",
     "text": [
      "Enter the electricity bill of the month:  210\n"
     ]
    },
    {
     "name": "stdout",
     "output_type": "stream",
     "text": [
      "Total electricity bill is:  1150.0\n"
     ]
    }
   ],
   "source": [
    "#question 3\n",
    "bill=int(input(\"Enter the electricity bill of the month: \"))\n",
    "if bill <=100:\n",
    "    print(\"Total electricity bill is: \", bill*4.5)\n",
    "elif bill>100 and bill<=200:\n",
    "    print(\"Total electricity bill is: \", (bill-100)*6 + 100*4.5)\n",
    "elif bill>200 and bill<=300:\n",
    "    print(\"Total electricity bill is: \", (bill-200)*10 + 100*6 + 100*4.5)\n",
    "else:\n",
    "    print(\"Total electricity bill is: \", (bill-300)*20 + 100*10 + 100*6 + 100*4.5)\n"
   ]
  },
  {
   "cell_type": "code",
   "execution_count": 24,
   "id": "bbdf82b9-574b-4b85-a436-619df0405e2c",
   "metadata": {},
   "outputs": [
    {
     "name": "stdout",
     "output_type": "stream",
     "text": [
      "[2, 4, 5, 6, 8, 10, 12, 14, 15, 16, 18, 20, 22, 24, 25, 26, 28, 30, 32, 34, 35, 36, 38, 40, 42, 44, 45, 46, 48, 50, 52, 54, 55, 56, 58, 60, 62, 64, 65, 66, 68, 70, 72, 74, 75, 76, 78, 80, 82, 84, 85, 86, 88, 90, 92, 94, 95, 96, 98, 100]\n"
     ]
    }
   ],
   "source": [
    "#question 4\n",
    "l=[]\n",
    "l_new=[]\n",
    "for i in range(1, 101):\n",
    "    l.append(i)\n",
    "for i in l:\n",
    "    cube=i*i*i\n",
    "    if cube%4==0 or cube%5==0:\n",
    "        l_new.append(i)\n",
    "print(l_new)"
   ]
  },
  {
   "cell_type": "code",
   "execution_count": null,
   "id": "4b49963b-f75c-4a32-83c6-82290608c27c",
   "metadata": {},
   "outputs": [],
   "source": [
    "#question 5\n",
    "string = \"I want to become a data scientist\"\n",
    "for i in string:\n",
    "    if i=='a' or i=='A' or i=='e' or i=='E' or i=='o' or i=='O"
   ]
  }
 ],
 "metadata": {
  "kernelspec": {
   "display_name": "Python 3 (ipykernel)",
   "language": "python",
   "name": "python3"
  },
  "language_info": {
   "codemirror_mode": {
    "name": "ipython",
    "version": 3
   },
   "file_extension": ".py",
   "mimetype": "text/x-python",
   "name": "python",
   "nbconvert_exporter": "python",
   "pygments_lexer": "ipython3",
   "version": "3.10.8"
  }
 },
 "nbformat": 4,
 "nbformat_minor": 5
}
